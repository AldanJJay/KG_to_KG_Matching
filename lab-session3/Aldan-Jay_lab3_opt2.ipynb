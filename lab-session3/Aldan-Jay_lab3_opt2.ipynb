{
 "cells": [
  {
   "cell_type": "code",
   "execution_count": null,
   "id": "605701b1-a975-424b-a9e5-81c0cf704602",
   "metadata": {},
   "outputs": [
    {
     "name": "stderr",
     "output_type": "stream",
     "text": [
      "* Owlready2 * Warning: optimized Cython parser module 'owlready2_optimized' is not available, defaulting to slower Python implementation\n"
     ]
    }
   ],
   "source": [
    "########## IMPORTS ##########\n",
    "\n",
    "# %% Import necessary libraries\n",
    "from owlready2 import get_ontology, default_world\n",
    "from rdflib import Graph, Namespace, URIRef, Literal\n",
    "from Levenshtein import ratio\n",
    "\n",
    "########## TASK B.1 ##########"
   ]
  },
  {
   "cell_type": "code",
   "execution_count": null,
   "id": "1958b30e-c588-4d62-9fc5-7795517afd26",
   "metadata": {},
   "outputs": [],
   "source": [
    "# %% Function to find common elements in two lists\n",
    "\n",
    "def find_common_elements(listA, listB):\n",
    "    # Find common elements using set intersection\n",
    "    common_elements = list(set(listA).intersection(set(listB)))\n",
    "    return common_elements"
   ]
  },
  {
   "cell_type": "code",
   "execution_count": null,
   "id": "0886a76d-47ce-4ee7-9e85-be343436f59c",
   "metadata": {},
   "outputs": [
    {
     "name": "stdout",
     "output_type": "stream",
     "text": [
      "['restaurant', 'pizza']\n"
     ]
    }
   ],
   "source": [
    "# %% Example usage for common elements\n",
    "\n",
    "listA = [\"pizza\", \"tomato sauce\", \"pepperoni\", \"restaurant\"]\n",
    "listB = [\"pizza\", \"tomato\", \"peperone\", \"restaurant\"]\n",
    "listC = find_common_elements(listA, listB)\n",
    "print(listC)  # Output: [\"pizza\", \"restaurant\"]"
   ]
  },
  {
   "cell_type": "code",
   "execution_count": null,
   "id": "1892a687-0560-44ab-838e-97760ecb0e98",
   "metadata": {},
   "outputs": [],
   "source": [
    "# %% Function to find similar elements in two lists using Levenshtein ratio\n",
    "\n",
    "def find_similar_elements(listA, listB, similarity_threshold=0.8):\n",
    "    similar_elements = []\n",
    "    for a in listA:\n",
    "        for b in listB:\n",
    "            similarity = ratio(a, b)\n",
    "            if similarity >= similarity_threshold:\n",
    "                similar_elements.append((a, b, similarity))\n",
    "    return similar_elements"
   ]
  },
  {
   "cell_type": "code",
   "execution_count": null,
   "id": "bff61519-8ba6-4354-a1bc-ee8d51f98499",
   "metadata": {},
   "outputs": [
    {
     "name": "stdout",
     "output_type": "stream",
     "text": [
      "[('pizza', 'pizza', 1.0), ('pepperoni', 'peperone', 0.8235294117647058), ('restaurant', 'restaurant', 1.0)]\n"
     ]
    }
   ],
   "source": [
    "# %% Example usage for similar elements\n",
    "\n",
    "listA = [\"pizza\", \"tomato sauce\", \"pepperoni\", \"restaurant\"]\n",
    "listB = [\"pizza\", \"tomato\", \"peperone\", \"restaurant\"]\n",
    "similar_elements = find_similar_elements(listA, listB)\n",
    "print(similar_elements)\n",
    "# Output: [('pizza', 'pizza', 1.0), ('restaurant', 'restaurant', 1.0)]"
   ]
  },
  {
   "cell_type": "code",
   "execution_count": null,
   "id": "5b3e4ca0-ab54-41b2-a501-86ddadb93a6d",
   "metadata": {},
   "outputs": [],
   "source": [
    "# %% Function to extract entity labels from an ontology\n",
    "\n",
    "def extract_entity_labels(ontology_path):\n",
    "    ontology = get_ontology(ontology_path).load()\n",
    "    entities = []\n",
    "    for entity in ontology.classes():\n",
    "        labels = entity.label if entity.label else [entity.name]\n",
    "        entities.append((entity.iri, labels))\n",
    "    return entities"
   ]
  },
  {
   "cell_type": "code",
   "execution_count": null,
   "id": "cfdd9938-6451-4d6d-92a3-4caf3044a855",
   "metadata": {},
   "outputs": [],
   "source": [
    "# %% Function to compare ontologies and find common and similar entities\n",
    "\n",
    "def compare_ontologies(ontology_path1, ontology_path2, similarity_threshold=0.8):\n",
    "    entities1 = extract_entity_labels(ontology_path1)\n",
    "    entities2 = extract_entity_labels(ontology_path2)\n",
    "    \n",
    "    common_entities = []\n",
    "    similar_entities = []\n",
    "    \n",
    "    for uri1, labels1 in entities1:\n",
    "        for uri2, labels2 in entities2:\n",
    "            for label1 in labels1:\n",
    "                for label2 in labels2:\n",
    "                    similarity = ratio(label1, label2)\n",
    "                    if similarity >= similarity_threshold:\n",
    "                        similar_entities.append((uri1, label1, uri2, label2, similarity))\n",
    "                        if similarity == 1.0:\n",
    "                            common_entities.append((uri1, uri2))\n",
    "    \n",
    "    return common_entities, similar_entities"
   ]
  },
  {
   "cell_type": "code",
   "execution_count": null,
   "id": "8bc0e7a6-2b38-44b9-9f6f-52c267f533fb",
   "metadata": {},
   "outputs": [
    {
     "name": "stdout",
     "output_type": "stream",
     "text": [
      "Common Entities: [('http://www.geneontology.org/formats/oboInOwl#DbXref', 'http://www.geneontology.org/formats/oboInOwl#DbXref'), ('http://www.geneontology.org/formats/oboInOwl#Definition', 'http://www.geneontology.org/formats/oboInOwl#Definition'), ('http://www.geneontology.org/formats/oboInOwl#ObsoleteClass', 'http://www.geneontology.org/formats/oboInOwl#ObsoleteClass'), ('http://www.geneontology.org/formats/oboInOwl#Subset', 'http://www.geneontology.org/formats/oboInOwl#Subset'), ('http://www.geneontology.org/formats/oboInOwl#Synonym', 'http://www.geneontology.org/formats/oboInOwl#Synonym'), ('http://www.geneontology.org/formats/oboInOwl#SynonymType', 'http://www.geneontology.org/formats/oboInOwl#SynonymType')]\n",
      "Similar Entities: [('http://human.owl#NCI_C12422', 'Tongue', 'http://mouse.owl#MA_0000347', 'tongue', 0.8333333333333334), ('http://human.owl#NCI_C12229', 'Palate', 'http://mouse.owl#MA_0002476', 'palate', 0.8333333333333334), ('http://human.owl#NCI_C12232', 'Uvula', 'http://mouse.owl#MA_0000395', 'vulva', 0.8), ('http://human.owl#NCI_C12233', 'Submandibular_Gland', 'http://mouse.owl#MA_0001589', 'submandibular gland', 0.8421052631578947), ('http://human.owl#NCI_C12802', 'Tonsil', 'http://mouse.owl#MA_0000143', 'tonsil', 0.8333333333333334), ('http://human.owl#NCI_C12762', 'Oropharynx', 'http://mouse.owl#MA_0000351', 'oropharynx', 0.9), ('http://human.owl#NCI_C12762', 'Oropharynx', 'http://mouse.owl#MA_0000432', 'pharynx', 0.8235294117647058), ('http://human.owl#NCI_C12423', 'Nasopharynx', 'http://mouse.owl#MA_0000443', 'nasopharynx', 0.9090909090909091), ('http://human.owl#NCI_C12246', 'Hypopharynx', 'http://mouse.owl#MA_0001796', 'hypopharynx', 0.9090909090909091), ('http://human.owl#NCI_C12425', 'Pharynx', 'http://mouse.owl#MA_0000432', 'pharynx', 0.8571428571428572), ('http://human.owl#NCI_C12389', 'Esophagus', 'http://mouse.owl#MA_0000352', 'esophagus', 0.8888888888888888), ('http://human.owl#NCI_C12391', 'Stomach', 'http://mouse.owl#MA_0000353', 'stomach', 0.8571428571428572), ('http://human.owl#NCI_C12263', 'Duodenum', 'http://mouse.owl#MA_0000338', 'duodenum', 0.875), ('http://human.owl#NCI_C12386', 'Small_Intestine', 'http://mouse.owl#MA_0000337', 'small intestine', 0.8), ('http://human.owl#NCI_C12265', 'Ascending_Colon', 'http://mouse.owl#MA_0001541', 'ascending colon', 0.8), ('http://human.owl#NCI_C12382', 'Colon', 'http://mouse.owl#MA_0000335', 'colon', 0.8), ('http://human.owl#NCI_C12268', 'Descending_Colon', 'http://mouse.owl#MA_0001542', 'descending colon', 0.8125), ('http://human.owl#NCI_C12393', 'Pancreas', 'http://mouse.owl#MA_0000120', 'pancreas', 0.875), ('http://human.owl#NCI_C12272', 'Pancreatic_Duct', 'http://mouse.owl#MA_0000124', 'pancreatic duct', 0.8), ('http://human.owl#NCI_C32546', 'Exocrine_Pancreas', 'http://mouse.owl#MA_0002415', 'exocrine pancreas', 0.8235294117647058), ('http://human.owl#NCI_C12275', 'Maxillary_Sinus', 'http://mouse.owl#MA_0001794', 'maxillary sinus', 0.8), ('http://human.owl#NCI_C12763', 'Paranasal_Sinus', 'http://mouse.owl#MA_0000431', 'paranasal sinus', 0.8), ('http://human.owl#NCI_C12420', 'Larynx', 'http://mouse.owl#MA_0000414', 'larynx', 0.8333333333333334), ('http://human.owl#NCI_C12373', 'Cartilage', 'http://mouse.owl#MA_0000104', 'cartilage', 0.8888888888888888), ('http://human.owl#NCI_C12683', 'Bronchus', 'http://mouse.owl#MA_0000436', 'bronchus', 0.875), ('http://human.owl#NCI_C12290', 'Mandible', 'http://mouse.owl#MA_0001487', 'mandible', 0.875), ('http://human.owl#NCI_C33816', 'Trunk', 'http://mouse.owl#MA_0000004', 'trunk', 0.8), ('http://human.owl#NCI_C12299', 'Nipple', 'http://mouse.owl#MA_0000796', 'nipple', 0.8333333333333334), ('http://human.owl#NCI_C52559', 'Labium', 'http://mouse.owl#MA_0002464', 'labium', 0.8333333333333334), ('http://human.owl#NCI_C12408', 'Vulva', 'http://mouse.owl#MA_0000395', 'vulva', 0.8), ('http://human.owl#NCI_C12308', 'Clitoris', 'http://mouse.owl#MA_0000382', 'clitoris', 0.875), ('http://human.owl#NCI_C12405', 'Uterus', 'http://mouse.owl#MA_0000389', 'uterus', 0.8333333333333334), ('http://human.owl#NCI_C12313', 'Endometrium', 'http://mouse.owl#MA_0000390', 'endometrium', 0.9090909090909091), ('http://human.owl#NCI_C12314', 'Myometrium', 'http://mouse.owl#MA_0000391', 'myometrium', 0.9), ('http://human.owl#NCI_C13046', 'Ligament', 'http://mouse.owl#MA_0000113', 'ligament', 0.875), ('http://human.owl#NCI_C12402', 'Female_Reproductive_System', 'http://mouse.owl#MA_0000381', 'female reproductive system', 0.8076923076923077), ('http://human.owl#NCI_C12402', 'Female_Reproductive_System', 'http://mouse.owl#MA_0000396', 'male reproductive system', 0.8), ('http://human.owl#NCI_C12323', 'Prepuce', 'http://mouse.owl#MA_0000407', 'prepuce', 0.8571428571428572), ('http://human.owl#NCI_C12409', 'Penis', 'http://mouse.owl#MA_0000408', 'penis', 0.8), ('http://human.owl#NCI_C12841', 'Reproductive_System', 'http://mouse.owl#MA_0000326', 'reproductive system', 0.8421052631578947), ('http://human.owl#NCI_C12328', 'Epididymis', 'http://mouse.owl#MA_0000397', 'epididymis', 0.9), ('http://human.owl#NCI_C12341', 'Conjunctiva', 'http://mouse.owl#MA_0000265', 'conjunctiva', 0.9090909090909091), ('http://human.owl#NCI_C12342', 'Cornea', 'http://mouse.owl#MA_0000266', 'cornea', 0.8333333333333334), ('http://human.owl#NCI_C12343', 'Retina', 'http://mouse.owl#MA_0000276', 'retina', 0.8333333333333334), ('http://human.owl#NCI_C12344', 'Choroid', 'http://mouse.owl#MA_0000263', 'choroid', 0.8571428571428572), ('http://human.owl#NCI_C32905', 'Lacrimal_Apparatus', 'http://mouse.owl#MA_0000274', 'lacrimal apparatus', 0.8333333333333334), ('http://human.owl#NCI_C12347', 'Orbit', 'http://mouse.owl#MA_0002482', 'orbit', 0.8), ('http://human.owl#NCI_C12348', 'Meninges', 'http://mouse.owl#MA_0001113', 'meninges', 0.875), ('http://human.owl#NCI_C12439', 'Brain', 'http://mouse.owl#MA_0000168', 'brain', 0.8), ('http://human.owl#NCI_C12351', 'Cerebral_Hemisphere', 'http://mouse.owl#MA_0000133', 'cerebral hemisphere', 0.8421052631578947), ('http://human.owl#NCI_C12905', 'Thoracic_Cavity', 'http://mouse.owl#MA_0000032', 'thoracic cavity', 0.8), ('http://human.owl#NCI_C12767', 'Pelvis', 'http://mouse.owl#MA_0000030', 'pelvis', 0.8333333333333334), ('http://human.owl#NCI_C12788', 'Skeletal_System', 'http://mouse.owl#MA_0000018', 'skeletal system', 0.8), ('http://human.owl#NCI_C12368', 'Areola', 'http://mouse.owl#MA_0000788', 'areola', 0.8333333333333334), ('http://human.owl#NCI_C12371', 'Myocardium', 'http://mouse.owl#MA_0000164', 'myocardium', 0.9), ('http://human.owl#NCI_C12727', 'Heart', 'http://mouse.owl#MA_0000072', 'heart', 0.8), ('http://human.owl#NCI_C12372', 'Artery', 'http://mouse.owl#MA_0000064', 'artery', 0.8333333333333334), ('http://human.owl#NCI_C12374', 'Connective_Tissue', 'http://mouse.owl#MA_0000011', 'connective tissue', 0.8235294117647058), ('http://human.owl#NCI_C12377', 'Gallbladder', 'http://mouse.owl#MA_0000356', 'gall bladder', 0.8695652173913043), ('http://human.owl#NCI_C12378', 'Gastrointestinal_System', 'http://mouse.owl#MA_0000323', 'gastrointestinal system', 0.8695652173913043), ('http://human.owl#NCI_C12379', 'Large_Intestine', 'http://mouse.owl#MA_0000333', 'large intestine', 0.8), ('http://human.owl#NCI_C12736', 'Intestine', 'http://mouse.owl#MA_0000328', 'intestine', 0.8888888888888888), ('http://human.owl#NCI_C12381', 'Cecum', 'http://mouse.owl#MA_0000334', 'cecum', 0.8), ('http://human.owl#NCI_C12385', 'Transverse_Colon', 'http://mouse.owl#MA_0001543', 'transverse colon', 0.8125), ('http://human.owl#NCI_C12387', 'Ileum', 'http://mouse.owl#MA_0000339', 'ileum', 0.8), ('http://human.owl#NCI_C12388', 'Jejunum', 'http://mouse.owl#MA_0000340', 'jejunum', 0.8571428571428572), ('http://human.owl#NCI_C12390', 'Rectum', 'http://mouse.owl#MA_0000211', 'tectum', 0.8333333333333334), ('http://human.owl#NCI_C12390', 'Rectum', 'http://mouse.owl#MA_0000336', 'rectum', 0.8333333333333334), ('http://human.owl#NCI_C12392', 'Liver', 'http://mouse.owl#MA_0000358', 'liver', 0.8), ('http://human.owl#NCI_C43612', 'Hepatobiliary_System', 'http://mouse.owl#MA_0000324', 'hepatobiliary system', 0.85), ('http://human.owl#NCI_C12395', 'Cochlea', 'http://mouse.owl#MA_0000240', 'cochlea', 0.8571428571428572), ('http://human.owl#NCI_C12795', 'Sympathetic_Nervous_System', 'http://mouse.owl#MA_0000225', 'sympathetic nervous system', 0.8076923076923077), ('http://human.owl#NCI_C12704', 'Endocrine_Gland', 'http://mouse.owl#MA_0002563', 'endocrine gland', 0.8), ('http://human.owl#NCI_C12399', 'Pituitary_Gland', 'http://mouse.owl#MA_0000176', 'pituitary gland', 0.8), ('http://human.owl#NCI_C12404', 'Ovary', 'http://mouse.owl#MA_0000384', 'ovary', 0.8), ('http://human.owl#NCI_C12407', 'Vagina', 'http://mouse.owl#MA_0000394', 'vagina', 0.8333333333333334), ('http://human.owl#NCI_C12412', 'Testis', 'http://mouse.owl#MA_0000411', 'testis', 0.8333333333333334), ('http://human.owl#NCI_C12785', 'Scrotum', 'http://mouse.owl#MA_0000409', 'scrotum', 0.8571428571428572), ('http://human.owl#NCI_C12415', 'Kidney', 'http://mouse.owl#MA_0000368', 'kidney', 0.8333333333333334), ('http://human.owl#NCI_C12416', 'Ureter', 'http://mouse.owl#MA_0000378', 'ureter', 0.8333333333333334), ('http://human.owl#NCI_C12417', 'Urethra', 'http://mouse.owl#MA_0000379', 'urethra', 0.8571428571428572), ('http://human.owl#NCI_C12428', 'Trachea', 'http://mouse.owl#MA_0000441', 'trachea', 0.8571428571428572), ('http://human.owl#NCI_C12779', 'Respiratory_System', 'http://mouse.owl#MA_0000327', 'respiratory system', 0.8333333333333334), ('http://human.owl#NCI_C12909', 'Hematopoietic_System', 'http://mouse.owl#MA_0002434', 'hematopoietic system', 0.85), ('http://human.owl#NCI_C12432', 'Spleen', 'http://mouse.owl#MA_0000141', 'spleen', 0.8333333333333334), ('http://human.owl#NCI_C12434', 'Blood', 'http://mouse.owl#MA_0000059', 'blood', 0.8), ('http://human.owl#NCI_C13056', 'Muscle', 'http://mouse.owl#MA_0000015', 'muscle', 0.8333333333333334), ('http://human.owl#NCI_C12440', 'Amygdala', 'http://mouse.owl#MA_0000887', 'amygdala', 0.875), ('http://human.owl#NCI_C12442', 'Medulla_Oblongata', 'http://mouse.owl#MA_0000206', 'medulla oblongata', 0.8235294117647058), ('http://human.owl#NCI_C12444', 'Hippocampus', 'http://mouse.owl#MA_0000191', 'hippocampus', 0.9090909090909091), ('http://human.owl#NCI_C12445', 'Cerebellum', 'http://mouse.owl#MA_0000198', 'cerebellum', 0.9), ('http://human.owl#NCI_C32741', 'Epencephalon', 'http://mouse.owl#MA_0000183', 'telencephalon', 0.8), ('http://human.owl#NCI_C32741', 'Epencephalon', 'http://mouse.owl#MA_0000171', 'diencephalon', 0.8333333333333334), ('http://human.owl#NCI_C32741', 'Epencephalon', 'http://mouse.owl#MA_0000197', 'metencephalon', 0.8), ('http://human.owl#NCI_C12446', 'Corpus_Callosum', 'http://mouse.owl#MA_0000188', 'corpus callosum', 0.8), ('http://human.owl#NCI_C12449', 'Globus_Pallidus', 'http://mouse.owl#MA_0000890', 'globus pallidus', 0.8), ('http://human.owl#NCI_C12451', 'Caudate_Nucleus', 'http://mouse.owl#MA_0000894', 'caudate nucleus', 0.8), ('http://human.owl#NCI_C12452', 'Putamen', 'http://mouse.owl#MA_0000895', 'putamen', 0.8571428571428572), ('http://human.owl#NCI_C12453', 'Substantia_Nigra', 'http://mouse.owl#MA_0000210', 'substantia nigra', 0.8125), ('http://human.owl#NCI_C12510', 'Mesencephalon', 'http://mouse.owl#MA_0000183', 'telencephalon', 0.8461538461538461), ('http://human.owl#NCI_C12510', 'Mesencephalon', 'http://mouse.owl#MA_0000171', 'diencephalon', 0.8), ('http://human.owl#NCI_C12510', 'Mesencephalon', 'http://mouse.owl#MA_0000197', 'metencephalon', 0.8461538461538461), ('http://human.owl#NCI_C12510', 'Mesencephalon', 'http://mouse.owl#MA_0000205', 'myelencephalon', 0.8148148148148149), ('http://human.owl#NCI_C12454', 'Subthalamic_Nucleus', 'http://mouse.owl#MA_0000877', 'subthalamic nucleus', 0.8421052631578947), ('http://human.owl#NCI_C12456', 'Diencephalon', 'http://mouse.owl#MA_0000183', 'telencephalon', 0.8), ('http://human.owl#NCI_C12456', 'Diencephalon', 'http://mouse.owl#MA_0000171', 'diencephalon', 0.9166666666666666), ('http://human.owl#NCI_C12456', 'Diencephalon', 'http://mouse.owl#MA_0000197', 'metencephalon', 0.8), ('http://human.owl#NCI_C12457', 'Epithalamus', 'http://mouse.owl#MA_0000172', 'epithalamus', 0.9090909090909091), ('http://human.owl#NCI_C12457', 'Epithalamus', 'http://mouse.owl#MA_0000179', 'thalamus', 0.8421052631578947), ('http://human.owl#NCI_C12459', 'Thalamus', 'http://mouse.owl#MA_0000179', 'thalamus', 0.875), ('http://human.owl#NCI_C12458', 'Hypothalamus', 'http://mouse.owl#MA_0000173', 'hypothalamus', 0.9166666666666666), ('http://human.owl#NCI_C12458', 'Hypothalamus', 'http://mouse.owl#MA_0000179', 'thalamus', 0.8), ('http://human.owl#NCI_C12461', 'Corpora_Quadrigemina', 'http://mouse.owl#MA_0002567', 'corpora quadrigemina', 0.85), ('http://human.owl#NCI_C12719', 'Ganglion', 'http://mouse.owl#MA_0002406', 'ganglion', 0.875), ('http://human.owl#NCI_C12465', 'Peripheral_Nervous_System', 'http://mouse.owl#MA_0000218', 'peripheral nervous system', 0.8), ('http://human.owl#NCI_C12466', 'Nerve', 'http://mouse.owl#MA_0000217', 'nerve', 0.8), ('http://human.owl#NCI_C12467', 'Sympathetic_Ganglion', 'http://mouse.owl#MA_0000226', 'sympathetic ganglion', 0.85), ('http://human.owl#NCI_C12720', 'Autonomic_Ganglion', 'http://mouse.owl#MA_0000220', 'autonomic ganglion', 0.8333333333333334), ('http://human.owl#NCI_C13044', 'Joint', 'http://mouse.owl#MA_0000319', 'joint', 0.8), ('http://human.owl#NCI_C12502', 'Tympanic_Membrane', 'http://mouse.owl#MA_0000257', 'tympanic membrane', 0.8235294117647058), ('http://human.owl#NCI_C12506', 'Tooth', 'http://mouse.owl#MA_0000348', 'tooth', 0.8), ('http://human.owl#NCI_C13072', 'Dentition', 'http://www.geneontology.org/formats/oboInOwl#Definition', 'Definition', 0.8421052631578947), ('http://human.owl#NCI_C13049', 'Lymphoid_Tissue', 'http://mouse.owl#MA_0002436', 'lymphoid tissue', 0.8), ('http://human.owl#NCI_C32746', 'Hyaline_Cartilage', 'http://mouse.owl#MA_0000109', 'hyaline cartilage', 0.8235294117647058), ('http://human.owl#NCI_C12986', 'Alveolus', 'http://mouse.owl#MA_0000420', 'alveolus', 0.875), ('http://human.owl#NCI_C12705', 'Endocrine_System', 'http://mouse.owl#MA_0000012', 'endocrine system', 0.8125), ('http://human.owl#NCI_C13047', 'Seminiferous_Tubule', 'http://mouse.owl#MA_0000412', 'seminiferous tubule', 0.8421052631578947), ('http://human.owl#NCI_C13277', 'Semen', 'http://mouse.owl#MA_0002522', 'semen', 0.8), ('http://human.owl#NCI_C32509', 'Endocrine_Pancreas', 'http://mouse.owl#MA_0001582', 'endocrine pancreas', 0.8333333333333334), ('http://human.owl#NCI_C33871', 'Vestibular_Labyrinth', 'http://mouse.owl#MA_0000245', 'vestibular labyrinth', 0.85), ('http://human.owl#NCI_C12641', 'Substantia_Gelatinosa', 'http://mouse.owl#MA_0001124', 'substantia gelatinosa', 0.8571428571428572), ('http://human.owl#NCI_C12669', 'Aorta', 'http://mouse.owl#MA_0000062', 'aorta', 0.8), ('http://human.owl#NCI_C12672', 'Arteriole', 'http://mouse.owl#MA_0000063', 'arteriole', 0.8888888888888888), ('http://human.owl#NCI_C33854', 'Vascular_System', 'http://mouse.owl#MA_0002718', 'vascular system', 0.8), ('http://human.owl#NCI_C12681', 'Brachial_Artery', 'http://mouse.owl#MA_0001921', 'brachial artery', 0.8), ('http://human.owl#NCI_C12682', 'Brachial_Plexus', 'http://mouse.owl#MA_0001180', 'brachial plexus', 0.8), ('http://human.owl#NCI_C12684', 'Bronchiole', 'http://mouse.owl#MA_0000422', 'bronchiole', 0.9), ('http://human.owl#NCI_C12685', 'Capillary', 'http://mouse.owl#MA_0000065', 'capillary', 0.8888888888888888), ('http://human.owl#NCI_C12686', 'Cardiovascular_System', 'http://mouse.owl#MA_0000010', 'cardiovascular system', 0.8571428571428572), ('http://human.owl#NCI_C12691', 'Cerebral_Artery', 'http://mouse.owl#MA_0002562', 'cerebral artery', 0.8), ('http://human.owl#NCI_C12692', 'Cerebrospinal_Fluid', 'http://mouse.owl#MA_0002503', 'cerebrospinal fluid', 0.8421052631578947), ('http://human.owl#NCI_C12693', 'Cervical_Vertebra', 'http://mouse.owl#MA_0000311', 'cervical vertebra', 0.8235294117647058), ('http://human.owl#NCI_C12933', 'Vertebra', 'http://mouse.owl#MA_0000309', 'vertebra', 0.875), ('http://human.owl#NCI_C12695', 'Clavicle', 'http://mouse.owl#MA_0001329', 'clavicle', 0.875), ('http://human.owl#NCI_C12998', 'Vertebral_Column', 'http://mouse.owl#MA_0002416', 'vertebral column', 0.8125), ('http://human.owl#NCI_C12701', 'Dermis', 'http://mouse.owl#MA_0000152', 'dermis', 0.8333333333333334), ('http://human.owl#NCI_C12702', 'Diaphragm', 'http://mouse.owl#MA_0001904', 'diaphragm', 0.8888888888888888), ('http://human.owl#NCI_C12707', 'Corneal_Endothelium', 'http://mouse.owl#MA_0001242', 'corneal endothelium', 0.8421052631578947), ('http://human.owl#NCI_C12708', 'Epidermis', 'http://mouse.owl#MA_0000152', 'dermis', 0.8), ('http://human.owl#NCI_C12708', 'Epidermis', 'http://mouse.owl#MA_0000153', 'epidermis', 0.8888888888888888), ('http://human.owl#NCI_C12957', 'Exocrine_System', 'http://mouse.owl#MA_0002411', 'exocrine system', 0.8), ('http://human.owl#NCI_C12713', 'Eyelid', 'http://mouse.owl#MA_0000268', 'eyelid', 0.8333333333333334), ('http://human.owl#NCI_C12717', 'Femur', 'http://mouse.owl#MA_0001359', 'femur', 0.8), ('http://human.owl#NCI_C12718', 'Fibula', 'http://mouse.owl#MA_0001360', 'fibula', 0.8333333333333334), ('http://human.owl#NCI_C13060', 'Sensory_Ganglion', 'http://mouse.owl#MA_0002566', 'sensory ganglion', 0.8125), ('http://human.owl#NCI_C12723', 'Glossopharyngeal_Nerve', 'http://mouse.owl#MA_0001093', 'glossopharyngeal IX nerve', 0.8085106382978724), ('http://human.owl#NCI_C12725', 'Gonad', 'http://mouse.owl#MA_0002420', 'gonad', 0.8), ('http://human.owl#NCI_C12731', 'Humerus', 'http://mouse.owl#MA_0001356', 'humerus', 0.8571428571428572), ('http://human.owl#NCI_C12744', 'Lumbar_Vertebra', 'http://mouse.owl#MA_0000312', 'lumbar vertebra', 0.8), ('http://human.owl#NCI_C12751', 'Metacarpal_Bone', 'http://mouse.owl#MA_0000302', 'metacarpal bone', 0.8), ('http://human.owl#NCI_C12752', 'Metatarsal_Bone', 'http://mouse.owl#MA_0000303', 'metatarsal bone', 0.8), ('http://human.owl#NCI_C12754', 'Musculoskeletal_System', 'http://mouse.owl#MA_0002418', 'musculoskeletal system', 0.8636363636363636), ('http://human.owl#NCI_C33556', 'Sinus', 'http://mouse.owl#MA_0001215', 'incus', 0.8), ('http://human.owl#NCI_C12764', 'Parasympathetic_Nervous_System', 'http://mouse.owl#MA_0000223', 'parasympathetic nervous system', 0.8333333333333334), ('http://human.owl#NCI_C12765', 'Parathyroid_Gland', 'http://mouse.owl#MA_0000128', 'parathyroid gland', 0.8235294117647058), ('http://human.owl#NCI_C12768', 'Peripheral_Nerve', 'http://mouse.owl#MA_0000228', 'peripheral nerve', 0.8125), ('http://human.owl#NCI_C12769', 'Peritoneal_Cavity', 'http://mouse.owl#MA_0000054', 'peritoneal cavity', 0.8235294117647058), ('http://human.owl#NCI_C12774', 'Pulmonary_Artery', 'http://mouse.owl#MA_0002031', 'pulmonary artery', 0.8125), ('http://human.owl#NCI_C12775', 'Pulmonary_Valve', 'http://mouse.owl#MA_0000089', 'pulmonary valve', 0.8), ('http://human.owl#NCI_C12799', 'Thorax', 'http://mouse.owl#MA_0000022', 'thorax', 0.8333333333333334), ('http://human.owl#NCI_C12783', 'Scapula', 'http://mouse.owl#MA_0001330', 'scapula', 0.8571428571428572), ('http://human.owl#NCI_C12784', 'Sclera', 'http://mouse.owl#MA_0000280', 'sclera', 0.8333333333333334), ('http://human.owl#NCI_C12787', 'Seminal_Vesicle', 'http://mouse.owl#MA_0000410', 'seminal vesicle', 0.8), ('http://human.owl#NCI_C12793', 'Sternum', 'http://mouse.owl#MA_0001331', 'sternum', 0.8571428571428572), ('http://human.owl#NCI_C12794', 'Subclavian_Vein', 'http://mouse.owl#MA_0002221', 'subclavian vein', 0.8), ('http://human.owl#NCI_C12798', 'Thoracic_Vertebra', 'http://mouse.owl#MA_0000314', 'thoracic vertebra', 0.8235294117647058), ('http://human.owl#NCI_C12800', 'Tibia', 'http://mouse.owl#MA_0001361', 'tibia', 0.8), ('http://human.owl#NCI_C12805', 'Tricuspid_Valve', 'http://mouse.owl#MA_0000090', 'tricuspid valve', 0.8), ('http://human.owl#NCI_C12818', 'Venule', 'http://mouse.owl#MA_0000071', 'venule', 0.8333333333333334), ('http://human.owl#NCI_C12819', 'Vertebral_Artery', 'http://mouse.owl#MA_0002077', 'vertebral artery', 0.8125), ('http://human.owl#NCI_C12831', 'Posterior_Cerebral_Artery', 'http://mouse.owl#MA_0002022', 'posterior cerebral artery', 0.8), ('http://human.owl#NCI_C12834', 'Lateral_Ventricle', 'http://mouse.owl#MA_0000192', 'lateral ventricle', 0.8235294117647058), ('http://human.owl#NCI_C12835', 'Nucleus_Ambiguus', 'http://mouse.owl#MA_0001050', 'nucleus ambiguus', 0.8125), ('http://human.owl#NCI_C12843', 'Coronary_Artery', 'http://mouse.owl#MA_0002453', 'coronary artery', 0.8), ('http://human.owl#NCI_C12853', 'Sacral_Vertebra', 'http://mouse.owl#MA_0000313', 'sacral vertebra', 0.8), ('http://human.owl#NCI_C12889', 'Auditory_System', 'http://mouse.owl#MA_0002443', 'auditory system', 0.8), ('http://human.owl#NCI_C12901', 'Palpebral_Conjunctiva', 'http://mouse.owl#MA_0001265', 'palpebral conjunctiva', 0.8571428571428572), ('http://human.owl#NCI_C12928', 'Corneal_Epithelium', 'http://mouse.owl#MA_0001243', 'corneal epithelium', 0.8333333333333334), ('http://human.owl#NCI_C25389', 'Chest', 'http://mouse.owl#MA_0000031', 'chest', 0.8), ('http://human.owl#NCI_C12989', 'Episclera', 'http://mouse.owl#MA_0000280', 'sclera', 0.8), ('http://human.owl#NCI_C13005', 'Pericardium', 'http://mouse.owl#MA_0000099', 'pericardium', 0.9090909090909091), ('http://human.owl#NCI_C13164', 'Epicardium', 'http://mouse.owl#MA_0000099', 'pericardium', 0.8571428571428572), ('http://human.owl#NCI_C13045', 'Tendon', 'http://mouse.owl#MA_0000115', 'tendon', 0.8333333333333334), ('http://human.owl#NCI_C13048', 'Nephron', 'http://mouse.owl#MA_0000375', 'nephron', 0.8571428571428572), ('http://human.owl#NCI_C13070', 'Cheek', 'http://mouse.owl#MA_0002475', 'cheek', 0.8), ('http://human.owl#NCI_C13082', 'Internal_Capsule', 'http://mouse.owl#MA_0002748', 'internal capsule', 0.8125), ('http://human.owl#NCI_C33101', 'Mesangium', 'http://mouse.owl#MA_0002617', 'mesangium', 0.8888888888888888), ('http://human.owl#NCI_C13179', 'Basilar_Membrane', 'http://mouse.owl#MA_0001190', 'basilar membrane', 0.8125), ('http://human.owl#NCI_C13234', 'Feces', 'http://mouse.owl#MA_0002509', 'feces', 0.8), ('http://human.owl#NCI_C13250', 'Glomerulus', 'http://mouse.owl#MA_0001657', 'glomerulus', 0.9), ('http://human.owl#NCI_C33456', 'Renal_Corpuscle', 'http://mouse.owl#MA_0000376', 'renal corpuscle', 0.8), ('http://human.owl#NCI_C13252', 'Lymph', 'http://mouse.owl#MA_0002520', 'lymph', 0.8), ('http://human.owl#NCI_C33038', 'Lymphatic_Vessel', 'http://mouse.owl#MA_0000138', 'lymphatic vessel', 0.8125), ('http://human.owl#NCI_C13278', 'Sputum', 'http://mouse.owl#MA_0002536', 'sputum', 0.8333333333333334), ('http://human.owl#NCI_C13273', 'Lung_Surfactant', 'http://mouse.owl#MA_0002534', 'lung surfactant', 0.8), ('http://human.owl#NCI_C13275', 'Saliva', 'http://mouse.owl#MA_0002507', 'saliva', 0.8333333333333334), ('http://human.owl#NCI_C13276', 'Sebum', 'http://mouse.owl#MA_0002538', 'sebum', 0.8), ('http://human.owl#NCI_C13280', 'Sweat', 'http://mouse.owl#MA_0002539', 'sweat', 0.8), ('http://human.owl#NCI_C13283', 'Urine', 'http://mouse.owl#MA_0002545', 'urine', 0.8), ('http://human.owl#NCI_C13325', 'Serum', 'http://mouse.owl#MA_0002502', 'serum', 0.8), ('http://human.owl#NCI_C13356', 'Plasma', 'http://mouse.owl#MA_0002501', 'plasma', 0.8333333333333334), ('http://human.owl#NCI_C25203', 'Shoulder', 'http://mouse.owl#MA_0000038', 'shoulder', 0.875), ('http://human.owl#NCI_C26464', 'Macula', 'http://mouse.owl#MA_0001306', 'macula', 0.8333333333333334), ('http://human.owl#NCI_C26470', 'Maxilla', 'http://mouse.owl#MA_0001491', 'maxilla', 0.8571428571428572), ('http://human.owl#NCI_C32038', 'Abdominal_Aorta', 'http://mouse.owl#MA_0000474', 'abdominal aorta', 0.8), ('http://human.owl#NCI_C32455', 'Descending_Aorta', 'http://mouse.owl#MA_0002571', 'descending aorta', 0.8125), ('http://human.owl#NCI_C32042', 'Acetabulum', 'http://mouse.owl#MA_0001335', 'acetabulum', 0.9), ('http://human.owl#NCI_C33528', 'Semicircular_Duct', 'http://mouse.owl#MA_0000251', 'semicircular duct', 0.8235294117647058), ('http://human.owl#NCI_C33301', 'Perineum', 'http://mouse.owl#MA_0002466', 'perineum', 0.875), ('http://human.owl#NCI_C32086', 'Anterior_Commissure', 'http://mouse.owl#MA_0002722', 'anterior commissure', 0.8421052631578947), ('http://human.owl#NCI_C52851', 'Communicating_Artery', 'http://mouse.owl#MA_0001938', 'communicating artery', 0.85), ('http://human.owl#NCI_C32165', 'Auricle', 'http://mouse.owl#MA_0000247', 'utricle', 0.8571428571428572), ('http://human.owl#NCI_C32165', 'Auricle', 'http://mouse.owl#MA_0000259', 'auricle', 0.8571428571428572), ('http://human.owl#NCI_C32144', 'Articular_Cartilage', 'http://mouse.owl#MA_0000487', 'articular cartilage', 0.8421052631578947), ('http://human.owl#NCI_C32148', 'Arytenoid_Cartilage', 'http://mouse.owl#MA_0001759', 'arytenoid cartilage', 0.8421052631578947), ('http://human.owl#NCI_C32150', 'Ascending_Aorta', 'http://mouse.owl#MA_0002570', 'ascending aorta', 0.8), ('http://human.owl#NCI_C32160', 'Atrioventricular_Bundle', 'http://mouse.owl#MA_0000095', 'atrioventricular node', 0.8181818181818181), ('http://human.owl#NCI_C32160', 'Atrioventricular_Bundle', 'http://mouse.owl#MA_0002576', 'atrioventricular bundle', 0.8695652173913043), ('http://human.owl#NCI_C32161', 'Atrioventricular_Node', 'http://mouse.owl#MA_0000095', 'atrioventricular node', 0.8571428571428572), ('http://human.owl#NCI_C32169', 'Axillary_Artery', 'http://mouse.owl#MA_0002573', 'axillary artery', 0.8), ('http://human.owl#NCI_C32202', 'Bile_Canaliculus', 'http://mouse.owl#MA_0002495', 'bile canaliculus', 0.8125), ('http://human.owl#NCI_C32228', 'Brain_Infundibulum', 'http://mouse.owl#MA_0000858', 'infundibulum', 0.8), ('http://human.owl#NCI_C32230', 'Bronchial_Artery', 'http://mouse.owl#MA_0001923', 'bronchial artery', 0.8125), ('http://human.owl#NCI_C32234', 'Bronchus-Associated_Lymphoid_Tissue', 'http://mouse.owl#MA_0000135', 'bronchus associated lymphoid tissue', 0.8), ('http://human.owl#NCI_C32250', 'Calcaneum', 'http://mouse.owl#MA_0001348', 'calcaneum', 0.8888888888888888), ('http://human.owl#NCI_C32276', 'Cementum', 'http://mouse.owl#MA_0000212', 'tegmentum', 0.8235294117647058), ('http://human.owl#NCI_C32276', 'Cementum', 'http://mouse.owl#MA_0002541', 'cementum', 0.875), ('http://human.owl#NCI_C32287', 'Cerebral_Aqueduct', 'http://mouse.owl#MA_0000208', 'cerebral aqueduct', 0.8235294117647058), ('http://human.owl#NCI_C32293', 'Cerumen', 'http://mouse.owl#MA_0002506', 'cerumen', 0.8571428571428572), ('http://human.owl#NCI_C32314', 'Ciliary_Epithelium', 'http://mouse.owl#MA_0001238', 'ciliary epithelium', 0.8333333333333334), ('http://human.owl#NCI_C32318', 'Cilium', 'http://mouse.owl#MA_0001336', 'ilium', 0.9090909090909091), ('http://human.owl#NCI_C32322', 'Circumvallate_Papilla', 'http://mouse.owl#MA_0001594', 'circumvallate papilla', 0.8571428571428572), ('http://human.owl#NCI_C32329', 'Claustrum', 'http://mouse.owl#MA_0000888', 'claustrum', 0.8888888888888888), ('http://human.owl#NCI_C32334', 'Coccygeal_Vertebra', 'http://mouse.owl#MA_0001420', 'coccygeal vertebra', 0.8333333333333334), ('http://human.owl#NCI_C33090', 'Membranous_Labyrinth', 'http://mouse.owl#MA_0000242', 'membranous labyrinth', 0.85), ('http://human.owl#NCI_C32348', 'Colostrum', 'http://mouse.owl#MA_0002551', 'colostrum', 0.8888888888888888), ('http://human.owl#NCI_C33527', 'Semicircular_Canal', 'http://mouse.owl#MA_0000249', 'semicircular canal', 0.8333333333333334), ('http://human.owl#NCI_C32373', 'Corniculate_Cartilage', 'http://mouse.owl#MA_0001885', 'corniculate cartilage', 0.8571428571428572), ('http://human.owl#NCI_C32391', 'Costal_Cartilage', 'http://mouse.owl#MA_0000106', 'costal cartilage', 0.8125), ('http://human.owl#NCI_C32392', 'Costochondral_Joint', 'http://mouse.owl#MA_0001509', 'costochondral joint', 0.8421052631578947), ('http://human.owl#NCI_C32394', 'Costovertebral_Joint', 'http://mouse.owl#MA_0001510', 'costovertebral joint', 0.85), ('http://human.owl#NCI_C32400', 'Cricoid_Cartilage', 'http://mouse.owl#MA_0001762', 'cricoid cartilage', 0.8235294117647058), ('http://human.owl#NCI_C32425', 'Decidua', 'http://mouse.owl#MA_0001722', 'decidua', 0.8571428571428572), ('http://human.owl#NCI_C52860', 'Epigastric_Artery', 'http://mouse.owl#MA_0001948', 'epigastric artery', 0.8235294117647058), ('http://human.owl#NCI_C32446', 'Deltoid', 'http://mouse.owl#MA_0002286', 'deltoid', 0.8571428571428572), ('http://human.owl#NCI_C32453', 'Dentin', 'http://mouse.owl#MA_0002542', 'dentin', 0.8333333333333334), ('http://human.owl#NCI_C32494', 'Elastic_Cartilage', 'http://mouse.owl#MA_0000107', 'elastic cartilage', 0.8235294117647058), ('http://human.owl#NCI_C32505', 'Enamel', 'http://mouse.owl#MA_0002543', 'enamel', 0.8333333333333334), ('http://human.owl#NCI_C32513', 'Endolymph', 'http://mouse.owl#MA_0002528', 'endolymph', 0.8888888888888888), ('http://human.owl#NCI_C33231', 'Otolymph', 'http://mouse.owl#MA_0002527', 'otolymph', 0.875), ('http://human.owl#NCI_C49215', 'Capillary_Endothelium', 'http://mouse.owl#MA_0000711', 'capillary endothelium', 0.8571428571428572), ('http://human.owl#NCI_C32684', 'Glomerular_Capillary', 'http://mouse.owl#MA_0002587', 'glomerular capillary', 0.85), ('http://human.owl#NCI_C32526', 'Epiglottic_Cartilage', 'http://mouse.owl#MA_0001763', 'epiglottic cartilage', 0.85), ('http://human.owl#NCI_C32576', 'Eyelash', 'http://mouse.owl#MA_0002702', 'eyelash', 0.8571428571428572), ('http://human.owl#NCI_C32582', 'Falciform_Ligament', 'http://mouse.owl#MA_0001622', 'falciform ligament', 0.8333333333333334), ('http://human.owl#NCI_C32599', 'Fibrocartilage', 'http://mouse.owl#MA_0000108', 'fibrocartilage', 0.9285714285714286), ('http://human.owl#NCI_C32604', 'Filiform_Papilla', 'http://mouse.owl#MA_0002678', 'filiform papilla', 0.8125), ('http://human.owl#NCI_C32619', 'Foliate_Papilla', 'http://mouse.owl#MA_0002679', 'foliate papilla', 0.8), ('http://human.owl#NCI_C32644', 'Fungiform_Papilla', 'http://mouse.owl#MA_0001595', 'fungiform papilla', 0.8235294117647058), ('http://human.owl#NCI_C33209', 'Omentum', 'http://mouse.owl#MA_0002541', 'cementum', 0.8), ('http://human.owl#NCI_C32677', 'Gingiva', 'http://mouse.owl#MA_0000342', 'gingiva', 0.8571428571428572), ('http://human.owl#NCI_C32762', 'Iliacus', 'http://mouse.owl#MA_0002318', 'iliacus', 0.8571428571428572), ('http://human.owl#NCI_C32765', 'Ilium', 'http://mouse.owl#MA_0001336', 'ilium', 0.8), ('http://human.owl#NCI_C32769', 'Incisor', 'http://mouse.owl#MA_0000349', 'incisor', 0.8571428571428572), ('http://human.owl#NCI_C32770', 'Incus', 'http://mouse.owl#MA_0001215', 'incus', 0.8), ('http://human.owl#NCI_C32780', 'Inferior_Mesenteric_Artery', 'http://mouse.owl#MA_0002004', 'inferior mesenteric artery', 0.8076923076923077), ('http://human.owl#NCI_C52975', 'Mesenteric_Artery', 'http://mouse.owl#MA_0002003', 'mesenteric artery', 0.8235294117647058), ('http://human.owl#NCI_C53055', 'Mesenteric_Vein', 'http://mouse.owl#MA_0002177', 'mesenteric vein', 0.8), ('http://human.owl#NCI_C33199', 'Oculomotor_Muscle', 'http://mouse.owl#MA_0002432', 'oculomotor muscle', 0.8235294117647058), ('http://human.owl#NCI_C32786', 'Inferior_Pancreatico-duodenal_artery', 'http://mouse.owl#MA_0002014', 'inferior pancreatico-duodenal artery', 0.8888888888888888), ('http://human.owl#NCI_C32786', 'Inferior_Pancreatico-duodenal_artery', 'http://mouse.owl#MA_0002015', 'superior pancreatico-duodenal artery', 0.8333333333333334), ('http://human.owl#NCI_C52992', 'Pancreatico-Duodenal_Artery', 'http://mouse.owl#MA_0002013', 'pancreatico-duodenal artery', 0.8518518518518519), ('http://human.owl#NCI_C32797', 'Infraspinatus', 'http://mouse.owl#MA_0002323', 'infraspinatus', 0.9230769230769231), ('http://human.owl#NCI_C32821', 'Intercostal_Artery', 'http://mouse.owl#MA_0001981', 'intercostal artery', 0.8333333333333334), ('http://human.owl#NCI_C32826', 'Interlobular_Artery', 'http://mouse.owl#MA_0002584', 'interlobular artery', 0.8421052631578947), ('http://human.owl#NCI_C32884', 'Ischium', 'http://mouse.owl#MA_0001337', 'ischium', 0.8571428571428572), ('http://human.owl#NCI_C32907', 'Lacrimal_Canaliculus', 'http://mouse.owl#MA_0001294', 'lacrimal canaliculus', 0.85), ('http://human.owl#NCI_C32910', 'Lactiferous_Duct', 'http://mouse.owl#MA_0000791', 'lactiferous duct', 0.8125), ('http://human.owl#NCI_C33643', 'Subclavian_Artery', 'http://mouse.owl#MA_0002045', 'subclavian artery', 0.8235294117647058), ('http://human.owl#NCI_C32978', 'Lentiform_Nucleus', 'http://mouse.owl#MA_0000896', 'lentiform nucleus', 0.8235294117647058), ('http://human.owl#NCI_C33503', 'Saccule', 'http://mouse.owl#MA_0000246', 'saccule', 0.8571428571428572), ('http://human.owl#NCI_C33844', 'Utricle', 'http://mouse.owl#MA_0000247', 'utricle', 0.8571428571428572), ('http://human.owl#NCI_C33051', 'Malleus', 'http://mouse.owl#MA_0001216', 'malleus', 0.8571428571428572), ('http://human.owl#NCI_C33069', 'Medial_Vestibular_Nucleus', 'http://mouse.owl#MA_0001048', 'medial vestibular nucleus', 0.8), ('http://human.owl#NCI_C33075', 'Meibomian_Gland', 'http://mouse.owl#MA_0001249', 'meibomian gland', 0.8), ('http://human.owl#NCI_C33519', 'Sebaceous_Gland', 'http://mouse.owl#MA_0002565', 'sebaceous gland', 0.8), ('http://human.owl#NCI_C33083', 'Vestibular_Membrane', 'http://mouse.owl#MA_0001200', 'vestibular membrane', 0.8421052631578947), ('http://human.owl#NCI_C33091', 'Membranous_Urethra', 'http://mouse.owl#MA_0002647', 'membranous urethra', 0.8333333333333334), ('http://human.owl#NCI_C33105', 'Mesothelium', 'http://mouse.owl#MA_0000565', 'mesothelium', 0.9090909090909091), ('http://human.owl#NCI_C33106', 'Metacarpophalangeal_Joint', 'http://mouse.owl#MA_0000453', 'metacarpo-phalangeal joint', 0.8627450980392157), ('http://human.owl#NCI_C33135', 'Modiolus', 'http://mouse.owl#MA_0001182', 'modiolus', 0.875), ('http://human.owl#NCI_C49593', 'Nasal_Cartilage', 'http://mouse.owl#MA_0001883', 'nasal cartilage', 0.8), ('http://human.owl#NCI_C33161', 'Nasolacrimal_Duct', 'http://mouse.owl#MA_0001299', 'nasolacrimal duct', 0.8235294117647058), ('http://human.owl#NCI_C33190', 'Obturator_Artery', 'http://mouse.owl#MA_0002008', 'obturator artery', 0.8125), ('http://human.owl#NCI_C33194', 'Occipital_Artery', 'http://mouse.owl#MA_0002009', 'occipital artery', 0.8125), ('http://human.owl#NCI_C33207', 'Olfactory_Tract', 'http://mouse.owl#MA_0000975', 'olfactory tract', 0.8), ('http://human.owl#NCI_C33250', 'Palatine_Tonsil', 'http://mouse.owl#MA_0000775', 'palatine tonsil', 0.8), ('http://human.owl#NCI_C33265', 'Parathyroid_Gland_Capsule', 'http://mouse.owl#MA_0002676', 'parathyroid gland capsule', 0.8), ('http://human.owl#NCI_C33273', 'Parietal_Pleura', 'http://mouse.owl#MA_0002488', 'parietal pleura', 0.8), ('http://human.owl#NCI_C33282', 'Patella', 'http://mouse.owl#MA_0001374', 'patella', 0.8571428571428572), ('http://human.owl#NCI_C33284', 'Pectoralis_Major', 'http://mouse.owl#MA_0002354', 'pectoralis major', 0.8125), ('http://human.owl#NCI_C33286', 'Pectoralis_Muscle', 'http://mouse.owl#MA_0002423', 'pectoralis muscle', 0.8235294117647058), ('http://human.owl#NCI_C33285', 'Pectoralis_Minor', 'http://mouse.owl#MA_0002355', 'pectoralis minor', 0.8125), ('http://human.owl#NCI_C33297', 'Perilymph', 'http://mouse.owl#MA_0002529', 'perilymph', 0.8888888888888888), ('http://human.owl#NCI_C33300', 'Perineal_Muscle', 'http://mouse.owl#MA_0000538', 'perineal muscle', 0.8), ('http://human.owl#NCI_C33314', 'Peroneal_Artery', 'http://mouse.owl#MA_0002018', 'peroneal artery', 0.8), ('http://human.owl#NCI_C33317', 'Phalanx', 'http://mouse.owl#MA_0000304', 'phalanx', 0.8571428571428572), ('http://human.owl#NCI_C33337', 'Popliteal_Artery', 'http://mouse.owl#MA_0002021', 'popliteal artery', 0.8125), ('http://human.owl#NCI_C33356', 'Posterior_Commissure', 'http://mouse.owl#MA_0002743', 'posterior commissure', 0.85), ('http://human.owl#NCI_C33357', 'Posterior_Communicating_Artery', 'http://mouse.owl#MA_0002023', 'posterior communicating artery', 0.8333333333333334), ('http://human.owl#NCI_C33378', 'Posterior_Semicircular_Canal', 'http://mouse.owl#MA_0001209', 'posterior semicircular canal', 0.8214285714285714), ('http://human.owl#NCI_C33429', 'Pupil', 'http://mouse.owl#MA_0001292', 'pupil', 0.8), ('http://human.owl#NCI_C33440', 'Quadratus_Lumborum', 'http://mouse.owl#MA_0002362', 'quadratus lumborum', 0.8333333333333334), ('http://human.owl#NCI_C33449', 'Rectus_Abdominis', 'http://mouse.owl#MA_0002364', 'rectus abdominis', 0.8125), ('http://human.owl#NCI_C33465', 'Respiratory_Bronchiole', 'http://mouse.owl#MA_0000423', 'respiratory bronchiole', 0.8636363636363636), ('http://human.owl#NCI_C33507', 'Sacroiliac_Joint', 'http://mouse.owl#MA_0001506', 'sacroiliac joint', 0.8125), ('http://human.owl#NCI_C33526', 'Segmental_Bronchus', 'http://mouse.owl#MA_0000439', 'segmental bronchus', 0.8333333333333334), ('http://human.owl#NCI_C33555', 'Sinoatrial_Node', 'http://mouse.owl#MA_0000097', 'sinoatrial node', 0.8), ('http://human.owl#NCI_C33581', 'Spermatic_Artery', 'http://mouse.owl#MA_0002040', 'spermatic artery', 0.8125), ('http://human.owl#NCI_C33591', 'Spinal_Vestibular_Nucleus', 'http://mouse.owl#MA_0001054', 'spinal vestibular nucleus', 0.8), ('http://human.owl#NCI_C33612', 'Stapes', 'http://mouse.owl#MA_0001217', 'stapes', 0.8333333333333334), ('http://human.owl#NCI_C33615', 'Sternoclavicular_Joint', 'http://mouse.owl#MA_0001507', 'sternoclavicular joint', 0.8636363636363636), ('http://human.owl#NCI_C33617', 'Sternocostal_Joint', 'http://mouse.owl#MA_0001512', 'sternocostal joint', 0.8333333333333334), ('http://human.owl#NCI_C33648', 'Subiculum', 'http://mouse.owl#MA_0000960', 'subiculum', 0.8888888888888888), ('http://human.owl#NCI_C33649', 'Submandibular_Duct', 'http://mouse.owl#MA_0002698', 'submandibular duct', 0.8333333333333334), ('http://human.owl#NCI_C33650', 'Subscapular_Artery', 'http://mouse.owl#MA_0002050', 'subscapular artery', 0.8333333333333334), ('http://human.owl#NCI_C33651', 'Subscapularis', 'http://mouse.owl#MA_0002388', 'subscapularis', 0.9230769230769231), ('http://human.owl#NCI_C33669', 'Superior_Cerebellar_Artery', 'http://mouse.owl#MA_0001934', 'superior cerebellar artery', 0.8076923076923077), ('http://human.owl#NCI_C33680', 'Superior_Intercostal_Vein', 'http://mouse.owl#MA_0002226', 'superior intercostal vein', 0.8), ('http://human.owl#NCI_C33685', 'Superior_Mesenteric_Artery', 'http://mouse.owl#MA_0002005', 'superior mesenteric artery', 0.8076923076923077), ('http://human.owl#NCI_C33707', 'Supra-orbital_Vein', 'http://mouse.owl#MA_0002228', 'supraorbital vein', 0.8), ('http://human.owl#NCI_C33708', 'Suprarenal_Artery', 'http://mouse.owl#MA_0001914', 'suprarenal artery', 0.8235294117647058), ('http://human.owl#NCI_C33709', 'Supraspinatus', 'http://mouse.owl#MA_0002389', 'supraspinatus', 0.9230769230769231), ('http://human.owl#NCI_C33739', 'Tear', 'http://mouse.owl#MA_0000236', 'ear', 0.8571428571428572), ('http://human.owl#NCI_C33740', 'Tectorial_Membrane', 'http://mouse.owl#MA_0001199', 'tectorial membrane', 0.8333333333333334), ('http://human.owl#NCI_C33741', 'Temporal_Artery', 'http://mouse.owl#MA_0002061', 'temporal artery', 0.8), ('http://human.owl#NCI_C33754', 'Terminal_Bronchiole', 'http://mouse.owl#MA_0000424', 'terminal bronchiole', 0.8421052631578947), ('http://human.owl#NCI_C33755', 'Terminal_Bronchiole_Epithelium', 'http://mouse.owl#MA_0001774', 'terminal bronchiole epithelium', 0.8333333333333334), ('http://human.owl#NCI_C48942', 'Bronchiole_Epithelium', 'http://mouse.owl#MA_0001772', 'bronchiole epithelium', 0.8571428571428572), ('http://human.owl#NCI_C33763', 'Thigh', 'http://www.w3.org/2002/07/owl#Thing', 'Thing', 0.8), ('http://human.owl#NCI_C33780', 'Thyroid_Cartilage', 'http://mouse.owl#MA_0001764', 'thyroid cartilage', 0.8235294117647058), ('http://human.owl#NCI_C33797', 'Tracheal_Epithelium', 'http://mouse.owl#MA_0001862', 'trachea epithelium', 0.8108108108108107), ('http://human.owl#NCI_C33831', 'Uncus', 'http://mouse.owl#MA_0001215', 'incus', 0.8), ('http://human.owl#NCI_C33866', 'Vermis', 'http://mouse.owl#MA_0000152', 'dermis', 0.8333333333333334), ('http://human.owl#NCI_C33881', 'Visceral_Pleura', 'http://mouse.owl#MA_0002489', 'visceral pleura', 0.8), ('http://human.owl#NCI_C33885', 'Vitreous_Chamber', 'http://mouse.owl#MA_0002461', 'vitreous chamber', 0.8125), ('http://human.owl#NCI_C38662', 'Pericardial_Cavity', 'http://mouse.owl#MA_0000053', 'pericardial cavity', 0.8333333333333334), ('http://human.owl#NCI_C41266', 'Subsegmental_Bronchus', 'http://mouse.owl#MA_0000439', 'segmental bronchus', 0.8205128205128205), ('http://human.owl#NCI_C42079', 'Choroid_Plexus_Epithelium', 'http://mouse.owl#MA_0000824', 'choroid plexus epithelium', 0.8), ('http://human.owl#NCI_C48943', 'Respiratory_Bronchiole_Epithelium', 'http://mouse.owl#MA_0001773', 'respiratory bronchiole epithelium', 0.8484848484848485), ('http://human.owl#NCI_C49216', 'Cerebellar_Cortex', 'http://mouse.owl#MA_0000199', 'cerebellar cortex', 0.8235294117647058), ('http://human.owl#NCI_C49190', 'Aorta_Endothelium', 'http://mouse.owl#MA_0000701', 'aorta endothelium', 0.8235294117647058), ('http://human.owl#NCI_C49192', 'Arteriole_Endothelium', 'http://mouse.owl#MA_0000705', 'arteriole endothelium', 0.8571428571428572), ('http://human.owl#NCI_C49194', 'Artery_Endothelium', 'http://mouse.owl#MA_0000707', 'artery endothelium', 0.8333333333333334), ('http://human.owl#NCI_C49208', 'Bronchus_Basement_Membrane', 'http://mouse.owl#MA_0001832', 'bronchus basement membrane', 0.8076923076923077), ('http://human.owl#NCI_C49209', 'Bronchus_Cartilage', 'http://mouse.owl#MA_0001835', 'bronchus cartilage', 0.8333333333333334), ('http://human.owl#NCI_C49210', 'Bronchus_Connective_Tissue', 'http://mouse.owl#MA_0001831', 'bronchus connective tissue', 0.8076923076923077), ('http://human.owl#NCI_C49214', 'Bronchus_Submucosa', 'http://mouse.owl#MA_0001837', 'bronchus submucosa', 0.8333333333333334), ('http://human.owl#NCI_C49218', 'Cervix_Epithelium', 'http://mouse.owl#MA_0001724', 'cervix epithelium', 0.8235294117647058), ('http://human.owl#NCI_C49219', 'Cervix_Squamous_Epithelium', 'http://mouse.owl#MA_0001725', 'cervix squamous epithelium', 0.8076923076923077), ('http://human.owl#NCI_C49226', 'Eyelid_Subcutaneous_Connective_Tissue', 'http://mouse.owl#MA_0001252', 'eyelid subcutaneous connective tissue', 0.8108108108108107), ('http://human.owl#NCI_C49227', 'Gallbladder_Epithelium', 'http://mouse.owl#MA_0001632', 'gall bladder epithelium', 0.8444444444444444), ('http://human.owl#NCI_C49232', 'Fourth_Ventricle_Ependyma', 'http://mouse.owl#MA_0000986', 'fourth ventricle ependyma', 0.8), ('http://human.owl#NCI_C49239', 'Gingival_Epithelium', 'http://mouse.owl#MA_0001576', 'gingival epithelium', 0.8421052631578947), ('http://human.owl#NCI_C49249', 'Lateral_Ventricle_Ependyma', 'http://mouse.owl#MA_0000964', 'lateral ventricle ependyma', 0.8076923076923077), ('http://human.owl#NCI_C49258', 'Lymphatic_Vessel_Endothelium', 'http://mouse.owl#MA_0000750', 'lymphatic vessel endothelium', 0.8214285714285714), ('http://human.owl#NCI_C49262', 'Nasal_Cavity_Respiratory_Epithelium', 'http://mouse.owl#MA_0001326', 'nasal cavity respiratory epithelium', 0.8), ('http://human.owl#NCI_C49263', 'Nasopharynx_Epithelium', 'http://mouse.owl#MA_0002725', 'pharynx epithelium', 0.8), ('http://human.owl#NCI_C49263', 'Nasopharynx_Epithelium', 'http://mouse.owl#MA_0001865', 'nasopharynx epithelium', 0.8636363636363636), ('http://human.owl#NCI_C49264', 'Oropharynx_Epithelium', 'http://mouse.owl#MA_0001605', 'oropharynx epithelium', 0.8571428571428572), ('http://human.owl#NCI_C49264', 'Oropharynx_Epithelium', 'http://mouse.owl#MA_0002725', 'pharynx epithelium', 0.8205128205128205), ('http://human.owl#NCI_C49268', 'Pancreatic_Acinus', 'http://mouse.owl#MA_0002417', 'pancreatic acinus', 0.8235294117647058), ('http://human.owl#NCI_C49270', 'Prepuce_Epithelium', 'http://mouse.owl#MA_0001753', 'prepuce epithelium', 0.8333333333333334), ('http://human.owl#NCI_C49295', 'Seminal_Vesicle_Epithelium', 'http://mouse.owl#MA_0001745', 'seminal vesicle epithelium', 0.8076923076923077), ('http://human.owl#NCI_C49300', 'Tongue_Epithelium', 'http://mouse.owl#MA_0001592', 'tongue epithelium', 0.8235294117647058), ('http://human.owl#NCI_C49302', 'Trachea_Basement_Membrane', 'http://mouse.owl#MA_0001854', 'trachea basement membrane', 0.8), ('http://human.owl#NCI_C49304', 'Trachea_Cartilage', 'http://mouse.owl#MA_0001857', 'trachea cartilage', 0.8235294117647058), ('http://human.owl#NCI_C49307', 'Trachea_Submucosa', 'http://mouse.owl#MA_0001860', 'trachea submucosa', 0.8235294117647058), ('http://human.owl#NCI_C49308', 'Tympanic_Epithelium', 'http://mouse.owl#MA_0001224', 'tympanic epithelium', 0.8421052631578947), ('http://human.owl#NCI_C49309', 'Urethra_Epithelium', 'http://mouse.owl#MA_0001686', 'urethra epithelium', 0.8333333333333334), ('http://human.owl#NCI_C49313', 'Vaginal_Epithelium', 'http://mouse.owl#MA_0001730', 'vagina epithelium', 0.8), ('http://human.owl#NCI_C49317', 'Vein_Endothelium', 'http://mouse.owl#MA_0000712', 'vein endothelium', 0.8125), ('http://human.owl#NCI_C49319', 'Venule_Endothelium', 'http://mouse.owl#MA_0000716', 'venule endothelium', 0.8333333333333334), ('http://human.owl#NCI_C49320', 'Venous_System_Endothelium', 'http://mouse.owl#MA_0000714', 'venous system endothelium', 0.8), ('http://human.owl#NCI_C49329', 'Arterial_System_Endothelium', 'http://mouse.owl#MA_0000703', 'arterial system endothelium', 0.8148148148148149), ('http://human.owl#NCI_C49477', 'Appendicular_Skeleton', 'http://mouse.owl#MA_0000290', 'appendicular skeleton', 0.8571428571428572), ('http://human.owl#NCI_C49571', 'Intervertebral_Disc', 'http://mouse.owl#MA_0000110', 'intervertebral disc', 0.8421052631578947), ('http://human.owl#NCI_C49594', 'Nasal_Turbinate', 'http://mouse.owl#MA_0000286', 'nasal turbinate', 0.8), ('http://human.owl#NCI_C49596', 'Oropharyngeal_Lymphoid_Tissue', 'http://mouse.owl#MA_0000752', 'oropharyngeal lymphoid tissue', 0.8275862068965517), ('http://human.owl#NCI_C52552', 'Seminal_Vesicle_Secretion', 'http://mouse.owl#MA_0002526', 'seminal vesicle secretion', 0.8), ('http://human.owl#NCI_C52554', 'Bulbourethral_Gland_Secretion', 'http://mouse.owl#MA_0002524', 'bulbourethral gland secretion', 0.8275862068965517), ('http://human.owl#NCI_C52555', 'Esophagus_Secretion', 'http://mouse.owl#MA_0002514', 'esophagus secretion', 0.8421052631578947), ('http://human.owl#NCI_C52557', 'Parasympathetic_Ganglion', 'http://mouse.owl#MA_0000226', 'sympathetic ganglion', 0.8181818181818181), ('http://human.owl#NCI_C52557', 'Parasympathetic_Ganglion', 'http://mouse.owl#MA_0002469', 'parasympathetic ganglion', 0.875), ('http://human.owl#NCI_C52558', 'Submandibular_Ganglion', 'http://mouse.owl#MA_0002470', 'submandibular ganglion', 0.8636363636363636), ('http://human.owl#NCI_C52560', 'Gluteus_Maximus', 'http://mouse.owl#MA_0002309', 'gluteus maximus', 0.8), ('http://human.owl#NCI_C52561', 'Urethralis', 'http://mouse.owl#MA_0002401', 'urethralis', 0.9), ('http://human.owl#NCI_C52692', 'Inferior_Pancreatico-Duodenal_Vein', 'http://mouse.owl#MA_0002191', 'inferior pancreatico-duodenal vein', 0.8235294117647058), ('http://human.owl#NCI_C53060', 'Pancreatico-Duodenal_Vein', 'http://mouse.owl#MA_0002190', 'pancreatico-duodenal vein', 0.84), ('http://human.owl#NCI_C52700', 'Superficial_Temporal_Vein', 'http://mouse.owl#MA_0002242', 'superficial temporal vein', 0.8), ('http://human.owl#NCI_C52709', 'Enteric_Ganglion', 'http://mouse.owl#MA_0001144', 'enteric ganglion', 0.8125), ('http://human.owl#NCI_C52710', 'Anterior_Olfactory_Nucleus', 'http://mouse.owl#MA_0000968', 'anterior olfactory nucleus', 0.8076923076923077), ('http://human.owl#NCI_C52711', 'Arcuate_Nucleus', 'http://mouse.owl#MA_0000847', 'arcuate nucleus', 0.8), ('http://human.owl#NCI_C52712', 'Auditory_Cortex', 'http://mouse.owl#MA_0000942', 'auditory cortex', 0.8), ('http://human.owl#NCI_C52713', 'Cingulate_Cortex', 'http://mouse.owl#MA_0000904', 'cingulate cortex', 0.8125), ('http://human.owl#NCI_C52716', 'Cuneate_Nucleus', 'http://mouse.owl#MA_0001035', 'cuneate nucleus', 0.8), ('http://human.owl#NCI_C52717', 'Dorsal_Thalamus', 'http://mouse.owl#MA_0000180', 'dorsal thalamus', 0.8), ('http://human.owl#NCI_C52724', 'Medial_Palpebral_Ligament', 'http://mouse.owl#MA_0001258', 'medial palpebral ligament', 0.8), ('http://human.owl#NCI_C52730', 'Sternal_Manubrium', 'http://mouse.owl#MA_0001332', 'sternal manubrium', 0.8235294117647058), ('http://human.owl#NCI_C52731', 'Ventral_Thalamus', 'http://mouse.owl#MA_0000181', 'ventral thalamus', 0.8125), ('http://human.owl#NCI_C52733', 'Accumbens_Nucleus', 'http://mouse.owl#MA_0000892', 'accumbens nucleus', 0.8235294117647058), ('http://human.owl#NCI_C52736', 'Superior_Suprarenal_Artery', 'http://mouse.owl#MA_0002057', 'superior suprarenal artery', 0.8076923076923077), ('http://human.owl#NCI_C52737', 'Inferior_Suprarenal_Artery', 'http://mouse.owl#MA_0002056', 'inferior suprarenal artery', 0.8076923076923077), ('http://human.owl#NCI_C52742', 'Superior_Pancreatico-Duodenal_Artery', 'http://mouse.owl#MA_0002015', 'superior pancreatico-duodenal artery', 0.8333333333333334), ('http://human.owl#NCI_C52799', 'Talus', 'http://mouse.owl#MA_0001351', 'talus', 0.8), ('http://human.owl#NCI_C52800', 'Orbitalis_Muscle', 'http://mouse.owl#MA_0001274', 'orbitalis muscle', 0.8125), ('http://human.owl#NCI_C52802', 'Levator_Palpebrae_Superioris', 'http://mouse.owl#MA_0001272', 'levator palpebrae superioris', 0.8214285714285714), ('http://human.owl#NCI_C52805', 'Lumbosacral_Plexus', 'http://mouse.owl#MA_0001181', 'lumbosacral plexus', 0.8333333333333334), ('http://human.owl#NCI_C52829', 'Thoracic_Ganglion', 'http://mouse.owl#MA_0001159', 'thoracic ganglion', 0.8235294117647058), ('http://human.owl#NCI_C52845', 'Cerebellar_Artery', 'http://mouse.owl#MA_0001933', 'cerebellar artery', 0.8235294117647058), ('http://human.owl#NCI_C52848', 'Alveolar_Artery', 'http://mouse.owl#MA_0001913', 'alveolar artery', 0.8), ('http://human.owl#NCI_C52849', 'Auricular_Artery', 'http://mouse.owl#MA_0001918', 'auricular artery', 0.8125), ('http://human.owl#NCI_C52850', 'Cervical_Artery', 'http://mouse.owl#MA_0001936', 'cervical artery', 0.8), ('http://human.owl#NCI_C52855', 'Ethmoidal_Artery', 'http://mouse.owl#MA_0001949', 'ethmoidal artery', 0.8125), ('http://human.owl#NCI_C52857', 'Gastroepiploic_Artery', 'http://mouse.owl#MA_0001962', 'gastroepiploic artery', 0.8571428571428572), ('http://human.owl#NCI_C52859', 'Iliolumbar_Artery', 'http://mouse.owl#MA_0001976', 'ilio-lumbar artery', 0.8), ('http://human.owl#NCI_C52861', 'Inferior_Epigastric_Artery', 'http://mouse.owl#MA_0001978', 'inferior epigastric artery', 0.8076923076923077), ('http://human.owl#NCI_C52886', 'Orbicularis_Oculi', 'http://mouse.owl#MA_0001254', 'orbicularis oculi', 0.8235294117647058), ('http://human.owl#NCI_C52891', 'Bulboglandular', 'http://mouse.owl#MA_0002273', 'bulboglandular', 0.9285714285714286), ('http://human.owl#NCI_C52892', 'Cleidobrachial', 'http://mouse.owl#MA_0002274', 'cleidobrachial', 0.9285714285714286), ('http://human.owl#NCI_C52893', 'Cleidocephalic', 'http://mouse.owl#MA_0002275', 'cleidocephalic', 0.9285714285714286), ('http://human.owl#NCI_C52895', 'Cleidooccipital', 'http://mouse.owl#MA_0002276', 'cleidooccipital', 0.9333333333333333), ('http://human.owl#NCI_C52898', 'Constrictor_Vulvae', 'http://mouse.owl#MA_0002281', 'constrictor vulvae', 0.8333333333333334), ('http://human.owl#NCI_C52901', 'Cutaneous_Trunci', 'http://mouse.owl#MA_0002285', 'cutaneous trunci', 0.8125), ('http://human.owl#NCI_C52916', 'Extensor_Digitorum_Communis', 'http://mouse.owl#MA_0002293', 'extensor digitorum communis', 0.8148148148148149), ('http://human.owl#NCI_C52917', 'Extensor_Digitorum_Lateralis', 'http://mouse.owl#MA_0002294', 'extensor digitorum lateralis', 0.8214285714285714), ('http://human.owl#NCI_C52918', 'Extensor_Digitorum_Longus', 'http://mouse.owl#MA_0002295', 'extensor digitorum longus', 0.8), ('http://human.owl#NCI_C52923', 'Flexor_Digitorum_Profundus', 'http://mouse.owl#MA_0002300', 'flexor digitorum profundus', 0.8076923076923077), ('http://human.owl#NCI_C52928', 'Genioglossus', 'http://mouse.owl#MA_0002307', 'genioglossus', 0.9166666666666666), ('http://human.owl#NCI_C52930', 'Geniohyoid', 'http://mouse.owl#MA_0002308', 'geniohyoid', 0.9), ('http://human.owl#NCI_C52935', 'Gracilis', 'http://mouse.owl#MA_0002311', 'gracilis', 0.875), ('http://human.owl#NCI_C52940', 'Infraorbital_Artery', 'http://mouse.owl#MA_0001977', 'infraorbital artery', 0.8421052631578947), ('http://human.owl#NCI_C52944', 'Iliothoracic', 'http://mouse.owl#MA_0002322', 'iliothoracic', 0.9166666666666666), ('http://human.owl#NCI_C52946', 'Ischiocavernosus', 'http://mouse.owl#MA_0002330', 'ischiocavernosus', 0.9375), ('http://human.owl#NCI_C52948', 'Lacrimal_Artery', 'http://mouse.owl#MA_0001988', 'lacrimal artery', 0.8), ('http://human.owl#NCI_C52950', 'Levator_Nasolabialis', 'http://mouse.owl#MA_0002334', 'levator nasolabialis', 0.85), ('http://human.owl#NCI_C52954', 'Longissimus_Lumborum', 'http://mouse.owl#MA_0002338', 'longissimus lumborum', 0.85), ('http://human.owl#NCI_C52962', 'Mylohyoid', 'http://mouse.owl#MA_0002344', 'mylohyoid', 0.8888888888888888), ('http://human.owl#NCI_C52971', 'Omohyoid', 'http://mouse.owl#MA_0002344', 'mylohyoid', 0.8235294117647058), ('http://human.owl#NCI_C52971', 'Omohyoid', 'http://mouse.owl#MA_0002348', 'omohyoid', 0.875), ('http://human.owl#NCI_C52972', 'Omotransverse', 'http://mouse.owl#MA_0002349', 'omotransverse', 0.9230769230769231), ('http://human.owl#NCI_C52976', 'Parotidoauricular', 'http://mouse.owl#MA_0002352', 'parotidoauricular', 0.9411764705882353), ('http://human.owl#NCI_C52978', 'Pectineus', 'http://mouse.owl#MA_0002353', 'pectineus', 0.8888888888888888), ('http://human.owl#NCI_C52985', 'Scalenus_Dorsalis', 'http://mouse.owl#MA_0002369', 'scalenus dorsalis', 0.8235294117647058), ('http://human.owl#NCI_C52986', 'Scalenus_Medius', 'http://mouse.owl#MA_0002370', 'scalenus medius', 0.8), ('http://human.owl#NCI_C52987', 'Semimembranosus', 'http://mouse.owl#MA_0002371', 'semimembranosus', 0.9333333333333333), ('http://human.owl#NCI_C52989', 'Semispinalis_Capitis', 'http://mouse.owl#MA_0002372', 'semispinalis capitis', 0.85), ('http://human.owl#NCI_C52991', 'Semispinalis_Cervicis', 'http://mouse.owl#MA_0002373', 'semispinalis cervicis', 0.8571428571428572), ('http://human.owl#NCI_C52994', 'Perineal_Artery', 'http://mouse.owl#MA_0002017', 'perineal artery', 0.8), ('http://human.owl#NCI_C53000', 'Subcostal_Artery', 'http://mouse.owl#MA_0002048', 'subcostal artery', 0.8125), ('http://human.owl#NCI_C53002', 'Sublingual_Artery', 'http://mouse.owl#MA_0002049', 'sublingual artery', 0.8235294117647058), ('http://human.owl#NCI_C53005', 'Superficial_Cervical_Artery', 'http://mouse.owl#MA_0002052', 'superficial cervical artery', 0.8148148148148149), ('http://human.owl#NCI_C53006', 'Semispinalis_Thoracis', 'http://mouse.owl#MA_0002374', 'semispinalis thoracis', 0.8571428571428572), ('http://human.owl#NCI_C53007', 'Serratus_Dorsalis_Caudalis', 'http://mouse.owl#MA_0002376', 'serratus dorsalis caudalis', 0.8076923076923077), ('http://human.owl#NCI_C53012', 'Serratus_Dorsalis_Cranialis', 'http://mouse.owl#MA_0002377', 'serratus dorsalis cranialis', 0.8148148148148149), ('http://human.owl#NCI_C53014', 'Serratus_Ventralis', 'http://mouse.owl#MA_0002378', 'serratus ventralis', 0.8333333333333334), ('http://human.owl#NCI_C53016', 'Sphincter_Colli_Superficialis', 'http://mouse.owl#MA_0002380', 'sphincter colli superficialis', 0.8275862068965517), ('http://human.owl#NCI_C53018', 'Thoracodorsal_Artery', 'http://mouse.owl#MA_0002065', 'thoracodorsal artery', 0.85), ('http://human.owl#NCI_C53032', 'Cerebellar_Vein', 'http://mouse.owl#MA_0002093', 'cerebellar vein', 0.8), ('http://human.owl#NCI_C53038', 'Spinalis_Thoracis', 'http://mouse.owl#MA_0002381', 'spinalis thoracis', 0.8235294117647058), ('http://human.owl#NCI_C53044', 'Sternohyoid', 'http://mouse.owl#MA_0002383', 'sternohyoid', 0.9090909090909091), ('http://human.owl#NCI_C53044', 'Sternohyoid', 'http://mouse.owl#MA_0002386', 'sternothyroid', 0.8333333333333334), ('http://human.owl#NCI_C53045', 'Epigastric_Vein', 'http://mouse.owl#MA_0002114', 'epigastric vein', 0.8), ('http://human.owl#NCI_C53051', 'Masseteric_Vein', 'http://mouse.owl#MA_0002167', 'masseteric vein', 0.8), ('http://human.owl#NCI_C53057', 'Ophthalmic_Plexus', 'http://mouse.owl#MA_0002185', 'ophthalmic plexus', 0.8235294117647058), ('http://human.owl#NCI_C53059', 'Pancreatic_Vein', 'http://mouse.owl#MA_0002189', 'pancreatic vein', 0.8), ('http://human.owl#NCI_C53061', 'Pericardiacophrenic_Vein', 'http://mouse.owl#MA_0002187', 'pericardiacophrenic vein', 0.875), ('http://human.owl#NCI_C53069', 'Sternooccipital', 'http://mouse.owl#MA_0002385', 'sternooccipital', 0.9333333333333333), ('http://human.owl#NCI_C53070', 'Sternothyroid', 'http://mouse.owl#MA_0002383', 'sternohyoid', 0.8333333333333334), ('http://human.owl#NCI_C53070', 'Sternothyroid', 'http://mouse.owl#MA_0002386', 'sternothyroid', 0.9230769230769231), ('http://human.owl#NCI_C53071', 'Styloglossus', 'http://mouse.owl#MA_0002317', 'hyoglossus', 0.8181818181818181), ('http://human.owl#NCI_C53071', 'Styloglossus', 'http://mouse.owl#MA_0002387', 'styloglossus', 0.9166666666666666), ('http://human.owl#NCI_C53073', 'Vastus_Lateralis', 'http://mouse.owl#MA_0002402', 'vastus lateralis', 0.8125), ('http://human.owl#NCI_C53075', 'Soleus', 'http://mouse.owl#MA_0002424', 'soleus', 0.8333333333333334), ('http://human.owl#NCI_C53078', 'Tibialis_Caudalis', 'http://mouse.owl#MA_0002394', 'tibialis caudalis', 0.8235294117647058), ('http://human.owl#NCI_C53129', 'Suprarenal_Vein', 'http://mouse.owl#MA_0002229', 'suprarenal vein', 0.8), ('http://human.owl#NCI_C53149', 'Brachialis', 'http://mouse.owl#MA_0002271', 'brachialis', 0.9), ('http://human.owl#NCI_C53150', 'Buccinator', 'http://mouse.owl#MA_0002272', 'buccinator', 0.9), ('http://human.owl#NCI_C53151', 'Coracobrachialis', 'http://mouse.owl#MA_0002282', 'coracobrachial', 0.8666666666666667), ('http://human.owl#NCI_C53152', 'Depressor_Labii_Inferioris', 'http://mouse.owl#MA_0002287', 'depressor labii inferioris', 0.8076923076923077), ('http://human.owl#NCI_C53166', 'Longissimus_Capitis', 'http://mouse.owl#MA_0002336', 'longissimus capitis', 0.8421052631578947), ('http://human.owl#NCI_C53167', 'Longissimus_Cervicis', 'http://mouse.owl#MA_0002337', 'longissimus cervicis', 0.85), ('http://human.owl#NCI_C53169', 'Longissimus_Thoracis', 'http://mouse.owl#MA_0002339', 'longissimus thoracis', 0.85), ('http://human.owl#NCI_C53171', 'Peroneus_Longus', 'http://mouse.owl#MA_0002356', 'peroneus longus', 0.8), ('http://human.owl#NCI_C53176', 'Semitendinosus', 'http://mouse.owl#MA_0002375', 'semitendinosus', 0.9285714285714286), ('http://human.owl#NCI_C53177', 'Splenius', 'http://mouse.owl#MA_0002382', 'splenius', 0.875), ('http://human.owl#NCI_C53178', 'Thyrohyoid', 'http://mouse.owl#MA_0002393', 'thyrohyoid', 0.9), ('http://human.owl#NCI_C53179', 'Transversus_Abdominis', 'http://mouse.owl#MA_0002396', 'transversus abdominis', 0.8571428571428572), ('http://human.owl#NCI_C53180', 'Transversus_Thoracis', 'http://mouse.owl#MA_0002397', 'transversus thoracis', 0.85), ('http://human.owl#NCI_C53182', 'Zygomaticus', 'http://mouse.owl#MA_0002404', 'zygomaticus', 0.9090909090909091), ('http://www.geneontology.org/formats/oboInOwl#DbXref', 'DbXref', 'http://www.geneontology.org/formats/oboInOwl#DbXref', 'DbXref', 1.0), ('http://www.geneontology.org/formats/oboInOwl#Definition', 'Definition', 'http://www.geneontology.org/formats/oboInOwl#Definition', 'Definition', 1.0), ('http://www.geneontology.org/formats/oboInOwl#ObsoleteClass', 'ObsoleteClass', 'http://www.geneontology.org/formats/oboInOwl#ObsoleteClass', 'ObsoleteClass', 1.0), ('http://www.geneontology.org/formats/oboInOwl#Subset', 'Subset', 'http://www.geneontology.org/formats/oboInOwl#Subset', 'Subset', 1.0), ('http://www.geneontology.org/formats/oboInOwl#Synonym', 'Synonym', 'http://www.geneontology.org/formats/oboInOwl#Synonym', 'Synonym', 1.0), ('http://www.geneontology.org/formats/oboInOwl#SynonymType', 'SynonymType', 'http://www.geneontology.org/formats/oboInOwl#SynonymType', 'SynonymType', 1.0)]\n"
     ]
    }
   ],
   "source": [
    "# %% Example usage with ontology paths\n",
    "\n",
    "ontology_path1 = \"data/human.owl\"\n",
    "ontology_path2 = \"data/mouse.owl\"\n",
    "\n",
    "common_entities, similar_entities = compare_ontologies(ontology_path1, ontology_path2)\n",
    "print(\"Common Entities:\", common_entities)\n",
    "print(\"Similar Entities:\", similar_entities)\n",
    "\n",
    "########## TASK B.2 ##########"
   ]
  },
  {
   "cell_type": "code",
   "execution_count": null,
   "id": "520f064d-51f5-4dfa-bfff-444b5abeec45",
   "metadata": {},
   "outputs": [],
   "source": [
    "# %% Define a threshold for lexical similarity\n",
    "\n",
    "SIMILARITY_THRESHOLD = 0.8"
   ]
  },
  {
   "cell_type": "code",
   "execution_count": null,
   "id": "ac4c4327-7390-4bed-911f-52c71c5993d1",
   "metadata": {},
   "outputs": [],
   "source": [
    "# %% Function to load ontologies\n",
    "\n",
    "def load_ontology(file_path):\n",
    "    return get_ontology(file_path).load()"
   ]
  },
  {
   "cell_type": "code",
   "execution_count": null,
   "id": "3b85ee3d-68f9-4694-8be6-39e329f0789d",
   "metadata": {},
   "outputs": [],
   "source": [
    "# %% Function to extract entities and their labels from the ontology\n",
    "\n",
    "def extract_entities(ontology):\n",
    "    classes = []\n",
    "    properties = []\n",
    "    individuals = []\n",
    "    \n",
    "    # Extract classes\n",
    "    for entity in ontology.classes():\n",
    "        labels = entity.label if entity.label else [entity.name]\n",
    "        classes.append((entity.iri, labels))\n",
    "        \n",
    "    # Extract properties\n",
    "    for entity in ontology.properties():\n",
    "        labels = entity.label if entity.label else [entity.name]\n",
    "        properties.append((entity.iri, labels))\n",
    "        \n",
    "    # Extract individuals\n",
    "    for entity in ontology.individuals():\n",
    "        labels = entity.label if entity.label else [entity.name]\n",
    "        individuals.append((entity.iri, labels))\n",
    "        \n",
    "    return classes, properties, individuals"
   ]
  },
  {
   "cell_type": "code",
   "execution_count": null,
   "id": "1fda52b3-d86b-4062-90da-f14ce9bd83b6",
   "metadata": {},
   "outputs": [],
   "source": [
    "# %% Function to compute lexical similarity and find equivalences\n",
    "\n",
    "def find_equivalences(entities1, entities2):\n",
    "    equivalences = []\n",
    "    for uri1, labels1 in entities1:\n",
    "        for uri2, labels2 in entities2:\n",
    "            for label1 in labels1:\n",
    "                for label2 in labels2:\n",
    "                    similarity = ratio(label1, label2)\n",
    "                    if similarity >= SIMILARITY_THRESHOLD:\n",
    "                        equivalences.append((uri1, uri2, similarity))\n",
    "    return equivalences"
   ]
  },
  {
   "cell_type": "code",
   "execution_count": null,
   "id": "c362d309-7fd1-478f-9fa7-2b8c8d53d4d1",
   "metadata": {},
   "outputs": [],
   "source": [
    "# %% Function to create RDF triples for equivalences\n",
    "\n",
    "def create_rdf_triples(class_equivalences, property_equivalences, instance_equivalences, namespace1, namespace2):\n",
    "    g = Graph()\n",
    "    ns1 = Namespace(namespace1)\n",
    "    ns2 = Namespace(namespace2)\n",
    "    \n",
    "    # Create triples for class equivalences\n",
    "    for uri1, uri2, similarity in class_equivalences:\n",
    "        g.add((URIRef(uri1), URIRef('http://www.w3.org/2002/07/owl#equivalentClass'), URIRef(uri2)))\n",
    "    \n",
    "    # Create triples for property equivalences\n",
    "    for uri1, uri2, similarity in property_equivalences:\n",
    "        g.add((URIRef(uri1), URIRef('http://www.w3.org/2002/07/owl#equivalentProperty'), URIRef(uri2)))\n",
    "    \n",
    "    # Create triples for instance equivalences\n",
    "    for uri1, uri2, similarity in instance_equivalences:\n",
    "        g.add((URIRef(uri1), URIRef('http://www.w3.org/2002/07/owl#sameAs'), URIRef(uri2)))\n",
    "    \n",
    "    return g"
   ]
  },
  {
   "cell_type": "code",
   "execution_count": null,
   "id": "4b7ed96c-b5d4-4dfd-a932-4b32c3123e43",
   "metadata": {},
   "outputs": [],
   "source": [
    "# %% Function to save RDF triples to Turtle format\n",
    "\n",
    "def save_rdf_triples(graph, output_file):\n",
    "    graph.serialize(destination=output_file, format='turtle')"
   ]
  },
  {
   "cell_type": "code",
   "execution_count": null,
   "id": "d562fc04-8afa-4787-bd6a-c88311fdd264",
   "metadata": {},
   "outputs": [],
   "source": [
    "# %% Main function to run the lexical matcher\n",
    "\n",
    "def lexical_matcher(ontology_file1, ontology_file2, output_file):\n",
    "    ontology1 = load_ontology(ontology_file1)\n",
    "    ontology2 = load_ontology(ontology_file2)\n",
    "    \n",
    "    classes1, properties1, individuals1 = extract_entities(ontology1)\n",
    "    classes2, properties2, individuals2 = extract_entities(ontology2)\n",
    "    \n",
    "    class_equivalences = find_equivalences(classes1, classes2)\n",
    "    property_equivalences = find_equivalences(properties1, properties2)\n",
    "    instance_equivalences = find_equivalences(individuals1, individuals2)\n",
    "    \n",
    "    graph = create_rdf_triples(class_equivalences, property_equivalences, instance_equivalences, ontology1.base_iri, ontology2.base_iri)\n",
    "    \n",
    "    save_rdf_triples(graph, output_file)\n",
    "    print(f\"Alignments saved to {output_file}\")"
   ]
  },
  {
   "cell_type": "code",
   "execution_count": null,
   "id": "c016e4eb-0356-4e27-8b20-2a8ddc37add3",
   "metadata": {},
   "outputs": [
    {
     "name": "stdout",
     "output_type": "stream",
     "text": [
      "Alignments saved to data/aldan-jay_cmt_ekaw.ttl\n"
     ]
    }
   ],
   "source": [
    "# %% Example usage\n",
    "\n",
    "ontology_file1 = \"data/cmt.owl\"\n",
    "ontology_file2 = \"data/ekaw.owl\"\n",
    "output_file = \"data/aldan-jay_cmt_ekaw.ttl\"\n",
    "\n",
    "lexical_matcher(ontology_file1, ontology_file2, output_file)\n",
    "\n",
    "########## TASK B.4 ##########"
   ]
  },
  {
   "cell_type": "code",
   "execution_count": null,
   "id": "bbcc2bd4-f18e-4e50-a7ab-ed4b293865d4",
   "metadata": {},
   "outputs": [
    {
     "name": "stdout",
     "output_type": "stream",
     "text": [
      "Alignments saved to data/aldan-jay_cmt_confOf.ttl\n"
     ]
    }
   ],
   "source": [
    "# %% Example usage\n",
    "\n",
    "ontology_file1 = \"data/cmt.owl\"\n",
    "ontology_file2 = \"data/confOf.owl\"\n",
    "output_file = \"data/aldan-jay_cmt_confOf.ttl\"\n",
    "\n",
    "lexical_matcher(ontology_file1, ontology_file2, output_file)\n",
    "\n",
    "########## TASK B.4 ##########"
   ]
  },
  {
   "cell_type": "code",
   "execution_count": null,
   "id": "f215de5e-24cc-478e-9006-d254c2337036",
   "metadata": {},
   "outputs": [
    {
     "name": "stdout",
     "output_type": "stream",
     "text": [
      "Alignments saved to data/aldan-jay_confOf_ekaw.ttl\n"
     ]
    }
   ],
   "source": [
    "# %% Example usage\n",
    "\n",
    "ontology_file1 = \"data/confOf.owl\"\n",
    "ontology_file2 = \"data/ekaw.owl\"\n",
    "output_file = \"data/aldan-jay_confOf_ekaw.ttl\"\n",
    "\n",
    "lexical_matcher(ontology_file1, ontology_file2, output_file)\n",
    "\n",
    "########## TASK B.4 ##########"
   ]
  },
  {
   "cell_type": "code",
   "execution_count": null,
   "id": "41c0463e-e730-4e90-b5e4-26752eeae0e9",
   "metadata": {},
   "outputs": [
    {
     "name": "stdout",
     "output_type": "stream",
     "text": [
      "Alignments saved to data/aldan-jay_human_mouse.ttl\n"
     ]
    }
   ],
   "source": [
    "# %% Example usage\n",
    "\n",
    "ontology_file1 = \"data/human.owl\"\n",
    "ontology_file2 = \"data/mouse.owl\"\n",
    "output_file = \"data/aldan-jay_human_mouse.ttl\"\n",
    "\n",
    "lexical_matcher(ontology_file1, ontology_file2, output_file)\n",
    "\n",
    "########## TASK B.4 ##########"
   ]
  },
  {
   "cell_type": "code",
   "execution_count": null,
   "id": "6aa7f68f-1777-4488-9efa-a5aaa4f020f0",
   "metadata": {},
   "outputs": [],
   "source": [
    "# %% Function to compare system mappings with reference mappings\n",
    "\n",
    "def compareWithReference(reference_mappings_file, system_mappings_file):\n",
    "    ref_mappings = Graph()\n",
    "    ref_mappings.parse(reference_mappings_file, format=\"ttl\")\n",
    "    \n",
    "    system_mappings = Graph()\n",
    "    system_mappings.parse(system_mappings_file, format=\"ttl\")\n",
    "    \n",
    "    # Calculate precision and recall via true positives, false positives, and false negatives\n",
    "    tp = 0\n",
    "    fp = 0\n",
    "    fn = 0\n",
    "    \n",
    "    for t in system_mappings:\n",
    "        if t in ref_mappings:\n",
    "            tp += 1\n",
    "        else:\n",
    "            fp += 1\n",
    "\n",
    "    for t in ref_mappings:\n",
    "        if t not in system_mappings:\n",
    "            fn += 1\n",
    "            \n",
    "    precision = tp / (tp + fp)\n",
    "    recall = tp / (tp + fn)\n",
    "    f_score = (2 * precision * recall) / (precision + recall)\n",
    "    \n",
    "    print(f\"Comparing '{system_mappings_file}' with '{reference_mappings_file}'\")\n",
    "    print(f\"\\tPrecision: {precision}\")\n",
    "    print(f\"\\tRecall: {recall}\")\n",
    "    print(f\"\\tF-Score: {f_score}\")"
   ]
  },
  {
   "cell_type": "code",
   "execution_count": null,
   "id": "ea4a94c1-7a22-4bba-a919-21d75ee57fae",
   "metadata": {},
   "outputs": [
    {
     "name": "stdout",
     "output_type": "stream",
     "text": [
      "Comparing 'data/aldan-jay_cmt_ekaw.ttl' with 'data/cmt-ekaw-reference-mappings.ttl'\n",
      "\tPrecision: 0.45454545454545453\n",
      "\tRecall: 0.45454545454545453\n",
      "\tF-Score: 0.45454545454545453\n"
     ]
    }
   ],
   "source": [
    "# %% Example usage for comparing alignments\n",
    "\n",
    "reference_mappings = \"data/cmt-ekaw-reference-mappings.ttl\"\n",
    "system_mappings = \"data/aldan-jay_cmt_ekaw.ttl\"\n",
    "\n",
    "compareWithReference(reference_mappings, system_mappings)\n",
    "\n",
    "# For the lab you should compare, for example, \n",
    "# cmt-confOf-reference.ttl with the cmt-confOf-your-system.ttl you generate.\n",
    "# compareWithReference(\"cmt-confOf-reference.ttl\", \"cmt-confOf-your-system.ttl\")"
   ]
  },
  {
   "cell_type": "code",
   "execution_count": null,
   "id": "941269d9-3f7e-4fbe-8c23-59a18105abbe",
   "metadata": {},
   "outputs": [
    {
     "name": "stdout",
     "output_type": "stream",
     "text": [
      "Comparing 'data/aldan-jay_cmt_confOf.ttl' with 'data/cmt-confOf-reference-mappings.ttl'\n",
      "\tPrecision: 0.5714285714285714\n",
      "\tRecall: 0.25\n",
      "\tF-Score: 0.34782608695652173\n"
     ]
    }
   ],
   "source": [
    "# %% Example usage for comparing alignments\n",
    "\n",
    "reference_mappings = \"data/cmt-confOf-reference-mappings.ttl\"\n",
    "system_mappings = \"data/aldan-jay_cmt_confOf.ttl\"\n",
    "\n",
    "compareWithReference(reference_mappings, system_mappings)\n",
    "\n",
    "# For the lab you should compare, for example, \n",
    "# cmt-confOf-reference.ttl with the cmt-confOf-your-system.ttl you generate.\n",
    "# compareWithReference(\"cmt-confOf-reference.ttl\", \"cmt-confOf-your-system.ttl\")"
   ]
  },
  {
   "cell_type": "code",
   "execution_count": null,
   "id": "b06000ca-6bb7-4ee8-9323-ac7381caa2dc",
   "metadata": {},
   "outputs": [
    {
     "name": "stdout",
     "output_type": "stream",
     "text": [
      "Comparing 'data/aldan-jay_confOf_ekaw.ttl' with 'data/confOf-ekaw-reference-mappings.ttl'\n",
      "\tPrecision: 0.5625\n",
      "\tRecall: 0.45\n",
      "\tF-Score: 0.5\n"
     ]
    }
   ],
   "source": [
    "# %% Example usage for comparing alignments\n",
    "\n",
    "reference_mappings = \"data/confOf-ekaw-reference-mappings.ttl\"\n",
    "system_mappings = \"data/aldan-jay_confOf_ekaw.ttl\"\n",
    "\n",
    "compareWithReference(reference_mappings, system_mappings)\n",
    "\n",
    "# For the lab you should compare, for example, \n",
    "# cmt-confOf-reference.ttl with the cmt-confOf-your-system.ttl you generate.\n",
    "# compareWithReference(\"cmt-confOf-reference.ttl\", \"cmt-confOf-your-system.ttl\")"
   ]
  }
 ],
 "metadata": {
  "language_info": {
   "codemirror_mode": {
    "name": "ipython",
    "version": 3
   },
   "file_extension": ".py",
   "mimetype": "text/x-python",
   "name": "python",
   "nbconvert_exporter": "python",
   "pygments_lexer": "ipython3",
   "version": 3
  }
 },
 "nbformat": 4,
 "nbformat_minor": 2
}
